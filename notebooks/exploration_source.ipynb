{
 "cells": [
  {
   "cell_type": "markdown",
   "metadata": {},
   "source": [
    "## Exploration base de données"
   ]
  },
  {
   "cell_type": "code",
   "execution_count": 1,
   "metadata": {},
   "outputs": [],
   "source": [
    "import pandas as pd\n",
    "import os\n",
    "from datetime import date, timedelta"
   ]
  },
  {
   "cell_type": "code",
   "execution_count": 2,
   "metadata": {},
   "outputs": [],
   "source": [
    "# racine des fichiers quotidiens\n",
    "base_url = 'https://raw.githubusercontent.com/CSSEGISandData/COVID-19/master/csse_covid_19_data/csse_covid_19_daily_reports/{}.csv'\n",
    "\n",
    "#dates de disponibilité des fichiers\n",
    "start_date = date(2020, 1, 22)   # start date\n",
    "end_date = date(2020, 3, 13)   # end date\n",
    "\n",
    "#répertoire de sauvegarde des fichiers bruts\n",
    "rawfiles_dir = '../data/raw/'\n",
    "processed_dir = '../data/processed/'"
   ]
  },
  {
   "cell_type": "markdown",
   "metadata": {},
   "source": [
    "# Boucle de récupération des fichiers"
   ]
  },
  {
   "cell_type": "code",
   "execution_count": 3,
   "metadata": {},
   "outputs": [],
   "source": [
    "delta = end_date - start_date\n",
    "\n",
    "for i in range(delta.days + 1):\n",
    "    day = start_date + timedelta(days=i)\n",
    "    day_label = day.strftime(\"%m-%d-%Y\")\n",
    "    virus_df = pd.read_csv(base_url.format(day_label), sep=',', parse_dates=['Last Update'])\n",
    "    virus_df.to_csv(os.path.join(rawfiles_dir, day_label + '.csv'), index=False)"
   ]
  },
  {
   "cell_type": "code",
   "execution_count": 4,
   "metadata": {},
   "outputs": [
    {
     "data": {
      "text/html": [
       "<div>\n",
       "<style scoped>\n",
       "    .dataframe tbody tr th:only-of-type {\n",
       "        vertical-align: middle;\n",
       "    }\n",
       "\n",
       "    .dataframe tbody tr th {\n",
       "        vertical-align: top;\n",
       "    }\n",
       "\n",
       "    .dataframe thead th {\n",
       "        text-align: right;\n",
       "    }\n",
       "</style>\n",
       "<table border=\"1\" class=\"dataframe\">\n",
       "  <thead>\n",
       "    <tr style=\"text-align: right;\">\n",
       "      <th></th>\n",
       "      <th>Province/State</th>\n",
       "      <th>Country/Region</th>\n",
       "      <th>Last Update</th>\n",
       "      <th>Confirmed</th>\n",
       "      <th>Deaths</th>\n",
       "      <th>Recovered</th>\n",
       "      <th>Latitude</th>\n",
       "      <th>Longitude</th>\n",
       "    </tr>\n",
       "  </thead>\n",
       "  <tbody>\n",
       "    <tr>\n",
       "      <th>0</th>\n",
       "      <td>Hubei</td>\n",
       "      <td>Mainland China</td>\n",
       "      <td>2020-03-05 14:53:03</td>\n",
       "      <td>67466</td>\n",
       "      <td>2902</td>\n",
       "      <td>40592</td>\n",
       "      <td>30.9756</td>\n",
       "      <td>112.2707</td>\n",
       "    </tr>\n",
       "    <tr>\n",
       "      <th>1</th>\n",
       "      <td>NaN</td>\n",
       "      <td>South Korea</td>\n",
       "      <td>2020-03-05 09:03:09</td>\n",
       "      <td>6088</td>\n",
       "      <td>35</td>\n",
       "      <td>41</td>\n",
       "      <td>36.0000</td>\n",
       "      <td>128.0000</td>\n",
       "    </tr>\n",
       "    <tr>\n",
       "      <th>2</th>\n",
       "      <td>NaN</td>\n",
       "      <td>Italy</td>\n",
       "      <td>2020-03-05 17:43:03</td>\n",
       "      <td>3858</td>\n",
       "      <td>148</td>\n",
       "      <td>414</td>\n",
       "      <td>43.0000</td>\n",
       "      <td>12.0000</td>\n",
       "    </tr>\n",
       "    <tr>\n",
       "      <th>3</th>\n",
       "      <td>NaN</td>\n",
       "      <td>Iran</td>\n",
       "      <td>2020-03-05 13:43:04</td>\n",
       "      <td>3513</td>\n",
       "      <td>107</td>\n",
       "      <td>739</td>\n",
       "      <td>32.0000</td>\n",
       "      <td>53.0000</td>\n",
       "    </tr>\n",
       "    <tr>\n",
       "      <th>4</th>\n",
       "      <td>Guangdong</td>\n",
       "      <td>Mainland China</td>\n",
       "      <td>2020-03-05 09:23:03</td>\n",
       "      <td>1351</td>\n",
       "      <td>7</td>\n",
       "      <td>1181</td>\n",
       "      <td>23.3417</td>\n",
       "      <td>113.4244</td>\n",
       "    </tr>\n",
       "    <tr>\n",
       "      <th>...</th>\n",
       "      <td>...</td>\n",
       "      <td>...</td>\n",
       "      <td>...</td>\n",
       "      <td>...</td>\n",
       "      <td>...</td>\n",
       "      <td>...</td>\n",
       "      <td>...</td>\n",
       "      <td>...</td>\n",
       "    </tr>\n",
       "    <tr>\n",
       "      <th>168</th>\n",
       "      <td>NaN</td>\n",
       "      <td>Ukraine</td>\n",
       "      <td>2020-03-03 15:33:02</td>\n",
       "      <td>1</td>\n",
       "      <td>0</td>\n",
       "      <td>0</td>\n",
       "      <td>48.3794</td>\n",
       "      <td>31.1656</td>\n",
       "    </tr>\n",
       "    <tr>\n",
       "      <th>169</th>\n",
       "      <td>From Diamond Princess</td>\n",
       "      <td>Australia</td>\n",
       "      <td>2020-02-29 02:03:10</td>\n",
       "      <td>0</td>\n",
       "      <td>0</td>\n",
       "      <td>0</td>\n",
       "      <td>35.4437</td>\n",
       "      <td>139.6380</td>\n",
       "    </tr>\n",
       "    <tr>\n",
       "      <th>170</th>\n",
       "      <td>Lackland, TX (From Diamond Princess)</td>\n",
       "      <td>US</td>\n",
       "      <td>2020-02-24 23:33:02</td>\n",
       "      <td>0</td>\n",
       "      <td>0</td>\n",
       "      <td>0</td>\n",
       "      <td>29.3829</td>\n",
       "      <td>-98.6134</td>\n",
       "    </tr>\n",
       "    <tr>\n",
       "      <th>171</th>\n",
       "      <td>Omaha, NE (From Diamond Princess)</td>\n",
       "      <td>US</td>\n",
       "      <td>2020-02-24 23:33:02</td>\n",
       "      <td>0</td>\n",
       "      <td>0</td>\n",
       "      <td>0</td>\n",
       "      <td>41.2545</td>\n",
       "      <td>-95.9758</td>\n",
       "    </tr>\n",
       "    <tr>\n",
       "      <th>172</th>\n",
       "      <td>Travis, CA (From Diamond Princess)</td>\n",
       "      <td>US</td>\n",
       "      <td>2020-02-24 23:33:02</td>\n",
       "      <td>0</td>\n",
       "      <td>0</td>\n",
       "      <td>0</td>\n",
       "      <td>38.2721</td>\n",
       "      <td>-121.9399</td>\n",
       "    </tr>\n",
       "  </tbody>\n",
       "</table>\n",
       "<p>173 rows × 8 columns</p>\n",
       "</div>"
      ],
      "text/plain": [
       "                           Province/State  Country/Region  \\\n",
       "0                                   Hubei  Mainland China   \n",
       "1                                     NaN     South Korea   \n",
       "2                                     NaN           Italy   \n",
       "3                                     NaN            Iran   \n",
       "4                               Guangdong  Mainland China   \n",
       "..                                    ...             ...   \n",
       "168                                   NaN         Ukraine   \n",
       "169                 From Diamond Princess       Australia   \n",
       "170  Lackland, TX (From Diamond Princess)              US   \n",
       "171     Omaha, NE (From Diamond Princess)              US   \n",
       "172    Travis, CA (From Diamond Princess)              US   \n",
       "\n",
       "             Last Update  Confirmed  Deaths  Recovered  Latitude  Longitude  \n",
       "0    2020-03-05 14:53:03      67466    2902      40592   30.9756   112.2707  \n",
       "1    2020-03-05 09:03:09       6088      35         41   36.0000   128.0000  \n",
       "2    2020-03-05 17:43:03       3858     148        414   43.0000    12.0000  \n",
       "3    2020-03-05 13:43:04       3513     107        739   32.0000    53.0000  \n",
       "4    2020-03-05 09:23:03       1351       7       1181   23.3417   113.4244  \n",
       "..                   ...        ...     ...        ...       ...        ...  \n",
       "168  2020-03-03 15:33:02          1       0          0   48.3794    31.1656  \n",
       "169  2020-02-29 02:03:10          0       0          0   35.4437   139.6380  \n",
       "170  2020-02-24 23:33:02          0       0          0   29.3829   -98.6134  \n",
       "171  2020-02-24 23:33:02          0       0          0   41.2545   -95.9758  \n",
       "172  2020-02-24 23:33:02          0       0          0   38.2721  -121.9399  \n",
       "\n",
       "[173 rows x 8 columns]"
      ]
     },
     "execution_count": 4,
     "metadata": {},
     "output_type": "execute_result"
    }
   ],
   "source": [
    "pd.read_csv(rawfiles_dir + '03-05-2020.csv', sep=',')"
   ]
  },
  {
   "cell_type": "markdown",
   "metadata": {},
   "source": [
    "## Constitution de la table de réference lat / log"
   ]
  },
  {
   "cell_type": "code",
   "execution_count": 5,
   "metadata": {},
   "outputs": [],
   "source": [
    "import glob\n",
    "\n",
    "df_list = []\n",
    "\n",
    "for file in glob.glob(os.path.join(rawfiles_dir, '*.csv')):\n",
    "    virus_df = pd.read_csv(file, sep=',')\n",
    "    if 'Latitude' in virus_df.columns and 'Longitude' in virus_df.columns:\n",
    "        df_list.append(virus_df)\n",
    "        \n",
    "all_df = pd.concat(df_list)\n",
    "\n",
    "(all_df[['Province/State', 'Country/Region', 'Latitude', 'Longitude']]\n",
    " .drop_duplicates(subset=['Province/State', 'Country/Region'])\n",
    " .sort_values(by=['Country/Region', 'Province/State'])\n",
    ".to_csv(os.path.join(processed_dir, 'lat_long_table.csv'), index=False)\n",
    " \n",
    ")"
   ]
  },
  {
   "cell_type": "markdown",
   "metadata": {},
   "source": [
    "## Construction d'une table unique"
   ]
  },
  {
   "cell_type": "code",
   "execution_count": 6,
   "metadata": {},
   "outputs": [],
   "source": [
    "data_catalog = {\n",
    "    'Last Update': ['<M8[ns]'],\n",
    "    'Confirmed' : ['float','int64'],\n",
    "    'Deaths':['float','int64'],\n",
    "    'Recovered':['float','int64'],\n",
    "    'Latitude': ['float64'],\n",
    "    'Longitude':['float64'],\n",
    "}"
   ]
  },
  {
   "cell_type": "code",
   "execution_count": 7,
   "metadata": {},
   "outputs": [],
   "source": [
    "df_list=[]\n",
    "latlong_df = pd.read_csv(os.path.join(processed_dir, 'lat_long_table.csv'))\n",
    "\n",
    "# Lecture des fichiers récupérés et sélection de\n",
    "for file in glob.glob(os.path.join(rawfiles_dir, '*.csv')):\n",
    "    virus_df = pd.read_csv(file, sep=',',parse_dates=['Last Update'])\n",
    "    if not ('Latitude' in virus_df.columns or 'Longitude' in virus_df.columns):\n",
    "        virus_df = virus_df.merge(latlong_df, on=['Province/State','Country/Region'], how='left')\n",
    "    \n",
    "    for field, types in data_catalog.items():\n",
    "        assert virus_df[field].dtypes in types, f\"Bad for {field} in {file}\"\n",
    "   \n",
    "    df_list.append(virus_df.assign(source=os.path.basename(file)))\n",
    "                        \n",
    "\n",
    "all_df =  pd.concat(df_list)\n",
    "                        \n",
    "# Sauvegarde de la base finale\n",
    "all_df.to_csv(os.path.join(processed_dir, 'all_data.csv'), index = False)"
   ]
  },
  {
   "cell_type": "code",
   "execution_count": 8,
   "metadata": {},
   "outputs": [
    {
     "data": {
      "text/plain": [
       "Province/State            object\n",
       "Country/Region            object\n",
       "Last Update       datetime64[ns]\n",
       "Confirmed                float64\n",
       "Deaths                   float64\n",
       "Recovered                float64\n",
       "Latitude                 float64\n",
       "Longitude                float64\n",
       "source                    object\n",
       "dtype: object"
      ]
     },
     "execution_count": 8,
     "metadata": {},
     "output_type": "execute_result"
    }
   ],
   "source": [
    "all_df.dtypes"
   ]
  },
  {
   "cell_type": "code",
   "execution_count": 9,
   "metadata": {},
   "outputs": [
    {
     "data": {
      "text/plain": [
       "(5383, 9)"
      ]
     },
     "execution_count": 9,
     "metadata": {},
     "output_type": "execute_result"
    }
   ],
   "source": [
    "all_df.shape"
   ]
  },
  {
   "cell_type": "code",
   "execution_count": null,
   "metadata": {},
   "outputs": [],
   "source": []
  },
  {
   "cell_type": "code",
   "execution_count": null,
   "metadata": {},
   "outputs": [],
   "source": []
  },
  {
   "cell_type": "code",
   "execution_count": null,
   "metadata": {},
   "outputs": [],
   "source": []
  },
  {
   "cell_type": "code",
   "execution_count": null,
   "metadata": {},
   "outputs": [],
   "source": []
  },
  {
   "cell_type": "code",
   "execution_count": null,
   "metadata": {},
   "outputs": [],
   "source": []
  },
  {
   "cell_type": "code",
   "execution_count": null,
   "metadata": {},
   "outputs": [],
   "source": []
  },
  {
   "cell_type": "code",
   "execution_count": null,
   "metadata": {},
   "outputs": [],
   "source": []
  },
  {
   "cell_type": "code",
   "execution_count": null,
   "metadata": {},
   "outputs": [],
   "source": []
  }
 ],
 "metadata": {
  "kernelspec": {
   "display_name": "Projet Corona (Python)",
   "language": "python",
   "name": "corona"
  },
  "language_info": {
   "codemirror_mode": {
    "name": "ipython",
    "version": 3
   },
   "file_extension": ".py",
   "mimetype": "text/x-python",
   "name": "python",
   "nbconvert_exporter": "python",
   "pygments_lexer": "ipython3",
   "version": "3.8.1"
  }
 },
 "nbformat": 4,
 "nbformat_minor": 4
}
